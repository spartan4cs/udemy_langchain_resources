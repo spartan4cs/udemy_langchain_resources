{
 "cells": [
  {
   "cell_type": "markdown",
   "id": "b947c78e",
   "metadata": {},
   "source": [
    "<font color='green'>\n",
    "Pip install is the command you use to install Python packages with the help of a tool called Pip package manager.\n",
    "<br><br>Installing LangChain package\n",
    "</font>"
   ]
  },
  {
   "cell_type": "code",
   "execution_count": 1,
   "id": "8236fd59",
   "metadata": {},
   "outputs": [],
   "source": [
    "!pip install langchain==0.1.13"
   ]
  },
  {
   "cell_type": "markdown",
   "id": "32c225b4",
   "metadata": {},
   "source": [
    "## Let's use Proprietary LLM from - OpenAI"
   ]
  },
  {
   "cell_type": "markdown",
   "id": "2a0e925c",
   "metadata": {},
   "source": [
    "<font color='green'>\n",
    "Installing Openai package, which includes the classes that we can use to communicate with Openai services\n",
    "<font>"
   ]
  },
  {
   "cell_type": "code",
   "execution_count": 2,
   "id": "5cb5a1a7",
   "metadata": {},
   "outputs": [],
   "source": [
    "!pip install openai==1.14.2"
   ]
  },
  {
   "cell_type": "markdown",
   "id": "f274e9c5",
   "metadata": {},
   "source": [
    "<font color='green'>\n",
    "Imports the Python built-in module called \"os.\"\n",
    "<br>This module provides a way to interact with the operating system, such as accessing environment variables, working with files and directories, executing shell commands, etc\n",
    "<br><br>\n",
    "The environ attribute is a dictionary-like object that contains the environment variables of the current operating system session\n",
    "<br><br>\n",
    "By accessing os.environ, you can retrieve and manipulate environment variables within your Python program. For example, you can retrieve the value of a specific environment variable using the syntax os.environ['VARIABLE_NAME'], where \"VARIABLE_NAME\" is the name of the environment variable you want to access.\n",
    "<font>"
   ]
  },
  {
   "cell_type": "code",
   "execution_count": 3,
   "id": "a4d278e8",
   "metadata": {},
   "outputs": [],
   "source": [
    "import os\n",
    "os.environ[\"OPENAI_API_KEY\"] = \"sk-PLfFwP2352352352hdfhdfhdhKQm3523vXr2dL8hVowXdt\""
   ]
  },
  {
   "cell_type": "markdown",
   "id": "5aef06cb",
   "metadata": {},
   "source": [
    "<font color='green'>\n",
    "LangChain has built a Wrapper around OpenAI APIs, using which we can get access to all the services OpenAI provides.\n",
    "<br>\n",
    "The code snippet below imports a specific class called 'OpenAI'(Wrapper around OpenAI large language models) from the 'llms' module of the 'langchain' library.\n",
    "\n",
    "<br>https://python.langchain.com/en/latest/_modules/langchain/llms/openai.html\n",
    "<font>"
   ]
  },
  {
   "cell_type": "code",
   "execution_count": 4,
   "id": "db64eaa7",
   "metadata": {},
   "outputs": [],
   "source": [
    "#As Langchain team has been working aggresively on improving the tool, we can see a lot of changes happening every weeek,\n",
    "#As a part of it, the below import has been depreciated\n",
    "#from langchain.llms import OpenAI\n",
    "\n",
    "#First we'll need to import the below LangChain - OpenAI integration package and then import it please, if not installed already\n",
    "\n",
    "!pip install langchain-openai==0.1.0\n",
    "\n",
    "from langchain_openai import OpenAI"
   ]
  },
  {
   "cell_type": "markdown",
   "id": "6a9d124f",
   "metadata": {},
   "source": [
    "<font color='green'>Here we are instantiating a language model object called OpenAI, for our natural language processing tasks.\n",
    "<br><br>\n",
    "The parameter model_name is provided with the value \"text-davinci-003\" which is a specific version or variant of a language model (examples - text-davinci-003, code-davinci-002, gpt-3.5-turbo, text-ada-001 and more).\n",
    "<font>"
   ]
  },
  {
   "cell_type": "code",
   "execution_count": 5,
   "id": "9a3be989",
   "metadata": {},
   "outputs": [],
   "source": [
    "# 'text-davinci-003' model is depreciated now, so we are using the openai's reccomended model\n",
    "llm = OpenAI(model_name=\"gpt-3.5-turbo-instruct\")"
   ]
  },
  {
   "cell_type": "markdown",
   "id": "396c7904",
   "metadata": {},
   "source": [
    "<font color='green'>\n",
    "Here language model is represented by the object \"llm,\" which is being utilized to generate a completion or response based on a specific query. \n",
    "<br><br>\n",
    "The query, stored in the \"our_query\" variable is bieng passed to the model through llm object.\n",
    "<font>"
   ]
  },
  {
   "cell_type": "code",
   "execution_count": 6,
   "id": "a2e267f6",
   "metadata": {},
   "outputs": [],
   "source": [
    "our_query = \"What is the currency of India?\"\n",
    "\n",
    "#Last week langchain has recommended to use invoke function for the below please :)\n",
    "completion = llm.invoke(our_query)"
   ]
  },
  {
   "cell_type": "code",
   "execution_count": 7,
   "id": "39f1b87e",
   "metadata": {},
   "outputs": [
    {
     "name": "stdout",
     "output_type": "stream",
     "text": [
      "\n",
      "\n",
      "The currency of India is the Indian Rupee (INR).\n"
     ]
    }
   ],
   "source": [
    "print(completion)"
   ]
  },
  {
   "cell_type": "markdown",
   "id": "e2085724",
   "metadata": {},
   "source": [
    "## Let's use open-source LLM hosted on Hugging Face"
   ]
  },
  {
   "cell_type": "code",
   "execution_count": 8,
   "id": "eb4f9984",
   "metadata": {},
   "outputs": [],
   "source": [
    "!pip install huggingface-hub==0.21.4"
   ]
  },
  {
   "cell_type": "code",
   "execution_count": 9,
   "id": "18ba8425",
   "metadata": {},
   "outputs": [],
   "source": [
    "import os\n",
    "os.environ[\"HUGGINGFACEHUB_API_TOKEN\"] = \"hf_IuiVdfh546464564wrdgdfgdgfdPJaIlkYU\""
   ]
  },
  {
   "cell_type": "code",
   "execution_count": 10,
   "id": "9548eede",
   "metadata": {},
   "outputs": [],
   "source": [
    "#from langchain.llms import HuggingFaceHub\n",
    "\n",
    "#The above have been updated recently, so going forward we have to use the below :)\n",
    "\n",
    "from langchain.llms import HuggingFaceEndpoint"
   ]
  },
  {
   "cell_type": "code",
   "execution_count": 11,
   "id": "099a0220",
   "metadata": {},
   "outputs": [
    {
     "name": "stderr",
     "output_type": "stream",
     "text": [
      "c:\\Users\\User\\Videos\\Movavi Library\\LangChain\\LLMs Model - Project 1\\LLM Practical Implementation using Python\\myvenv\\lib\\site-packages\\tqdm\\auto.py:21: TqdmWarning: IProgress not found. Please update jupyter and ipywidgets. See https://ipywidgets.readthedocs.io/en/stable/user_install.html\n",
      "  from .autonotebook import tqdm as notebook_tqdm\n"
     ]
    },
    {
     "name": "stdout",
     "output_type": "stream",
     "text": [
      "Token has not been saved to git credential helper. Pass `add_to_git_credential=True` if you want to set the git credential as well.\n",
      "Token is valid (permission: read).\n",
      "Your token has been saved to C:\\Users\\User\\.cache\\huggingface\\token\n",
      "Login successful\n"
     ]
    }
   ],
   "source": [
    "#llm = HuggingFaceHub(repo_id = \"google/flan-t5-large\")\n",
    "\n",
    "#The above 'HuggingFaceHub' class has been depreciated, so please use the below class'HuggingFaceEndpoint' \n",
    "#and the below mentioned model outperforms most of the available open source LLMs\n",
    "\n",
    "llm = HuggingFaceEndpoint(\n",
    "    repo_id=\"mistralai/Mistral-7B-Instruct-v0.2\") # Model link : https://huggingface.co/mistralai/Mistral-7B-Instruct-v0.2"
   ]
  },
  {
   "cell_type": "code",
   "execution_count": 12,
   "id": "3beee630",
   "metadata": {},
   "outputs": [],
   "source": [
    "# The LLM takes a prompt as an input and outputs a completion\n",
    "our_query = \"What is the currency of India?\"\n",
    "\n",
    "#Last week langchain has recommended to use invoke function for the below please :)\n",
    "completion = llm.invoke(our_query)"
   ]
  },
  {
   "cell_type": "code",
   "execution_count": 13,
   "id": "259e2628",
   "metadata": {},
   "outputs": [
    {
     "name": "stdout",
     "output_type": "stream",
     "text": [
      "\n",
      "\n",
      "The currency of India is the Indian Rupee (INR). It is the official currency and is used for all transactions within the country. One Indian Rupee is divided into 100 paise. The symbol for the Indian Rupee is ₹. It is also commonly abbreviated as INR or IDR (Indian Dollar). The Reserve Bank of India (RBI) is the central bank that manages the currency and monetary policy of India.\n"
     ]
    }
   ],
   "source": [
    "print(completion)"
   ]
  }
 ],
 "metadata": {
  "kernelspec": {
   "display_name": "Python 3 (ipykernel)",
   "language": "python",
   "name": "python3"
  },
  "language_info": {
   "codemirror_mode": {
    "name": "ipython",
    "version": 3
   },
   "file_extension": ".py",
   "mimetype": "text/x-python",
   "name": "python",
   "nbconvert_exporter": "python",
   "pygments_lexer": "ipython3",
   "version": "3.10.9"
  }
 },
 "nbformat": 4,
 "nbformat_minor": 5
}
